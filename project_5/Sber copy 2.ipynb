{
 "cells": [
  {
   "cell_type": "code",
   "execution_count": 162,
   "metadata": {},
   "outputs": [],
   "source": [
    "# импортируем необходимые для работы библиотеки\n",
    "import pandas as pd\n",
    "import numpy as np\n",
    "import matplotlib.pyplot as plt\n",
    "from sklearn import metrics\n",
    "from dateutil.relativedelta import relativedelta\n",
    "\n",
    "from statsmodels.tsa.stattools import adfuller\n",
    "from pmdarima import auto_arima\n",
    "from statsmodels.tsa.arima.model import ARIMA"
   ]
  },
  {
   "cell_type": "markdown",
   "metadata": {},
   "source": [
    "## 0. Знакомство с данными"
   ]
  },
  {
   "cell_type": "code",
   "execution_count": 163,
   "metadata": {},
   "outputs": [
    {
     "data": {
      "text/html": [
       "<div>\n",
       "<style scoped>\n",
       "    .dataframe tbody tr th:only-of-type {\n",
       "        vertical-align: middle;\n",
       "    }\n",
       "\n",
       "    .dataframe tbody tr th {\n",
       "        vertical-align: top;\n",
       "    }\n",
       "\n",
       "    .dataframe thead th {\n",
       "        text-align: right;\n",
       "    }\n",
       "</style>\n",
       "<table border=\"1\" class=\"dataframe\">\n",
       "  <thead>\n",
       "    <tr style=\"text-align: right;\">\n",
       "      <th></th>\n",
       "      <th>VALUE</th>\n",
       "    </tr>\n",
       "    <tr>\n",
       "      <th>REPORTDATE</th>\n",
       "      <th></th>\n",
       "    </tr>\n",
       "  </thead>\n",
       "  <tbody>\n",
       "    <tr>\n",
       "      <th>2013-12-30</th>\n",
       "      <td>3457625638</td>\n",
       "    </tr>\n",
       "    <tr>\n",
       "      <th>2013-12-31</th>\n",
       "      <td>3417092149</td>\n",
       "    </tr>\n",
       "    <tr>\n",
       "      <th>2014-01-01</th>\n",
       "      <td>3417092149</td>\n",
       "    </tr>\n",
       "    <tr>\n",
       "      <th>2014-01-02</th>\n",
       "      <td>3417092149</td>\n",
       "    </tr>\n",
       "    <tr>\n",
       "      <th>2014-01-03</th>\n",
       "      <td>3417092149</td>\n",
       "    </tr>\n",
       "    <tr>\n",
       "      <th>...</th>\n",
       "      <td>...</td>\n",
       "    </tr>\n",
       "    <tr>\n",
       "      <th>2019-10-06</th>\n",
       "      <td>64630140507</td>\n",
       "    </tr>\n",
       "    <tr>\n",
       "      <th>2019-10-07</th>\n",
       "      <td>66115288637</td>\n",
       "    </tr>\n",
       "    <tr>\n",
       "      <th>2019-10-08</th>\n",
       "      <td>68424049766</td>\n",
       "    </tr>\n",
       "    <tr>\n",
       "      <th>2019-10-09</th>\n",
       "      <td>72492897583</td>\n",
       "    </tr>\n",
       "    <tr>\n",
       "      <th>2019-10-10</th>\n",
       "      <td>72307860851</td>\n",
       "    </tr>\n",
       "  </tbody>\n",
       "</table>\n",
       "<p>2111 rows × 1 columns</p>\n",
       "</div>"
      ],
      "text/plain": [
       "                  VALUE\n",
       "REPORTDATE             \n",
       "2013-12-30   3457625638\n",
       "2013-12-31   3417092149\n",
       "2014-01-01   3417092149\n",
       "2014-01-02   3417092149\n",
       "2014-01-03   3417092149\n",
       "...                 ...\n",
       "2019-10-06  64630140507\n",
       "2019-10-07  66115288637\n",
       "2019-10-08  68424049766\n",
       "2019-10-09  72492897583\n",
       "2019-10-10  72307860851\n",
       "\n",
       "[2111 rows x 1 columns]"
      ]
     },
     "execution_count": 163,
     "metadata": {},
     "output_type": "execute_result"
    }
   ],
   "source": [
    "data = pd.read_csv('Вспомогательные данные\\data.csv', sep=';', index_col=['REPORTDATE'], parse_dates=['REPORTDATE'], dayfirst=True)\n",
    "data"
   ]
  },
  {
   "cell_type": "code",
   "execution_count": 164,
   "metadata": {},
   "outputs": [],
   "source": [
    "# для удобства работы переведём название признака в нижний регистр\n",
    "data.columns = data.columns.str.lower()"
   ]
  },
  {
   "cell_type": "code",
   "execution_count": 165,
   "metadata": {},
   "outputs": [
    {
     "name": "stdout",
     "output_type": "stream",
     "text": [
      "<class 'pandas.core.frame.DataFrame'>\n",
      "DatetimeIndex: 2111 entries, 2013-12-30 to 2019-10-10\n",
      "Data columns (total 1 columns):\n",
      " #   Column  Non-Null Count  Dtype\n",
      "---  ------  --------------  -----\n",
      " 0   value   2111 non-null   int64\n",
      "dtypes: int64(1)\n",
      "memory usage: 33.0 KB\n"
     ]
    }
   ],
   "source": [
    "data.info()"
   ]
  },
  {
   "cell_type": "markdown",
   "metadata": {},
   "source": [
    "Данные об объемах расчётных счетов физических лиц представлены за каждый день в периоде с 2013-12-30 по 2019-10-10. \n",
    "\n",
    "Для дальнейших вычислений возьмём средние значения за недельные интервалы."
   ]
  },
  {
   "cell_type": "code",
   "execution_count": 166,
   "metadata": {},
   "outputs": [
    {
     "data": {
      "text/html": [
       "<div>\n",
       "<style scoped>\n",
       "    .dataframe tbody tr th:only-of-type {\n",
       "        vertical-align: middle;\n",
       "    }\n",
       "\n",
       "    .dataframe tbody tr th {\n",
       "        vertical-align: top;\n",
       "    }\n",
       "\n",
       "    .dataframe thead th {\n",
       "        text-align: right;\n",
       "    }\n",
       "</style>\n",
       "<table border=\"1\" class=\"dataframe\">\n",
       "  <thead>\n",
       "    <tr style=\"text-align: right;\">\n",
       "      <th></th>\n",
       "      <th>value</th>\n",
       "    </tr>\n",
       "    <tr>\n",
       "      <th>REPORTDATE</th>\n",
       "      <th></th>\n",
       "    </tr>\n",
       "  </thead>\n",
       "  <tbody>\n",
       "    <tr>\n",
       "      <th>2014-01-05</th>\n",
       "      <td>3.422883e+09</td>\n",
       "    </tr>\n",
       "    <tr>\n",
       "      <th>2014-01-12</th>\n",
       "      <td>3.510315e+09</td>\n",
       "    </tr>\n",
       "    <tr>\n",
       "      <th>2014-01-19</th>\n",
       "      <td>3.503572e+09</td>\n",
       "    </tr>\n",
       "    <tr>\n",
       "      <th>2014-01-26</th>\n",
       "      <td>3.411524e+09</td>\n",
       "    </tr>\n",
       "    <tr>\n",
       "      <th>2014-02-02</th>\n",
       "      <td>3.797833e+09</td>\n",
       "    </tr>\n",
       "  </tbody>\n",
       "</table>\n",
       "</div>"
      ],
      "text/plain": [
       "                   value\n",
       "REPORTDATE              \n",
       "2014-01-05  3.422883e+09\n",
       "2014-01-12  3.510315e+09\n",
       "2014-01-19  3.503572e+09\n",
       "2014-01-26  3.411524e+09\n",
       "2014-02-02  3.797833e+09"
      ]
     },
     "execution_count": 166,
     "metadata": {},
     "output_type": "execute_result"
    }
   ],
   "source": [
    "data = data.resample('W').mean()\n",
    "data.head()"
   ]
  },
  {
   "cell_type": "markdown",
   "metadata": {},
   "source": [
    "## 1. Анализ и преобразование данных"
   ]
  },
  {
   "cell_type": "code",
   "execution_count": 167,
   "metadata": {},
   "outputs": [
    {
     "data": {
      "image/png": "[encoded data removed]",
      "text/plain": [
       "<Figure size 864x576 with 1 Axes>"
      ]
     },
     "metadata": {
      "needs_background": "light"
     },
     "output_type": "display_data"
    }
   ],
   "source": [
    "data['value'].plot(figsize=(12,8))\n",
    "plt.show()"
   ]
  },
  {
   "cell_type": "markdown",
   "metadata": {},
   "source": [
    "График имеет ярко выраженный тренд. Из это можно сделать вывод о том, что ряд не является стационарным. Для проверки стационарности проведём обобщенный тест Дикки-Фуллера на наличие единичных корней."
   ]
  },
  {
   "cell_type": "code",
   "execution_count": 168,
   "metadata": {},
   "outputs": [
    {
     "name": "stdout",
     "output_type": "stream",
     "text": [
      "adf:  -0.3409237030301542\n",
      "p-value:  0.9195050044614215\n",
      "num of lags:  16\n",
      "Critical values:  {'1%': -3.4535050041524245, '5%': -2.8717352599720294, '10%': -2.5722024776854417}\n",
      "есть единичные корни, ряд не стационарен\n"
     ]
    }
   ],
   "source": [
    "def ad_test(data):\n",
    "    test = adfuller(data, autolag='AIC')\n",
    "    print('adf: ', test[0])\n",
    "    print('p-value: ', test[1])\n",
    "    print('num of lags: ', test[2])\n",
    "    print('Critical values: ', test[4])\n",
    "    if test[0]> test[4]['5%']: \n",
    "        print('есть единичные корни, ряд не стационарен')\n",
    "    else:\n",
    "        print('единичных корней нет, ряд стационарен')\n",
    "        \n",
    "ad_test(data['value'])"
   ]
  },
  {
   "cell_type": "markdown",
   "metadata": {},
   "source": [
    "Проведенный тест подтвердил предположения о не стационарности ряда. Определим порядок интегрированного ряда (зададим смещение периода равным 1):"
   ]
  },
  {
   "cell_type": "code",
   "execution_count": 169,
   "metadata": {},
   "outputs": [
    {
     "name": "stdout",
     "output_type": "stream",
     "text": [
      "adf:  -5.696610726633053\n",
      "p-value:  7.847620268522126e-07\n",
      "num of lags:  15\n",
      "Critical values:  {'1%': -3.4535050041524245, '5%': -2.8717352599720294, '10%': -2.5722024776854417}\n",
      "единичных корней нет, ряд стационарен\n"
     ]
    }
   ],
   "source": [
    "data_1_diff = data['value'].diff(periods=1).dropna().reset_index()\n",
    "data_1_diff.index = data_1_diff['REPORTDATE']\n",
    "data_1_diff = data_1_diff.drop('REPORTDATE', axis=1)\n",
    "\n",
    "ad_test(data_1_diff['value'])"
   ]
  },
  {
   "cell_type": "markdown",
   "metadata": {},
   "source": [
    "Для построения модели прогнозирования временного ряда ARIMA необходимо знать следующие параметры:\n",
    "\n",
    "p — порядок компоненты AR\n",
    "\n",
    "d — порядок интегрированного ряда (равен 1)\n",
    "\n",
    "q — порядок компонетны MA"
   ]
  },
  {
   "cell_type": "code",
   "execution_count": 170,
   "metadata": {},
   "outputs": [
    {
     "data": {
      "text/html": [
       "<table class=\"simpletable\">\n",
       "<caption>SARIMAX Results</caption>\n",
       "<tr>\n",
       "  <th>Dep. Variable:</th>           <td>y</td>        <th>  No. Observations:  </th>    <td>301</td>   \n",
       "</tr>\n",
       "<tr>\n",
       "  <th>Model:</th>           <td>SARIMAX(4, 1, 5)</td> <th>  Log Likelihood     </th> <td>-6815.653</td>\n",
       "</tr>\n",
       "<tr>\n",
       "  <th>Date:</th>            <td>Mon, 28 Nov 2022</td> <th>  AIC                </th> <td>13653.305</td>\n",
       "</tr>\n",
       "<tr>\n",
       "  <th>Time:</th>                <td>19:49:42</td>     <th>  BIC                </th> <td>13694.047</td>\n",
       "</tr>\n",
       "<tr>\n",
       "  <th>Sample:</th>             <td>01-12-2014</td>    <th>  HQIC               </th> <td>13669.610</td>\n",
       "</tr>\n",
       "<tr>\n",
       "  <th></th>                   <td>- 10-13-2019</td>   <th>                     </th>     <td> </td>    \n",
       "</tr>\n",
       "<tr>\n",
       "  <th>Covariance Type:</th>        <td>opg</td>       <th>                     </th>     <td> </td>    \n",
       "</tr>\n",
       "</table>\n",
       "<table class=\"simpletable\">\n",
       "<tr>\n",
       "      <td></td>         <th>coef</th>     <th>std err</th>      <th>z</th>      <th>P>|z|</th>  <th>[0.025</th>    <th>0.975]</th>  \n",
       "</tr>\n",
       "<tr>\n",
       "  <th>intercept</th> <td>-1.377e+07</td> <td> 1.61e-10</td> <td>-8.53e+16</td> <td> 0.000</td> <td>-1.38e+07</td> <td>-1.38e+07</td>\n",
       "</tr>\n",
       "<tr>\n",
       "  <th>ar.L1</th>     <td>   -1.5956</td> <td>    0.058</td> <td>  -27.411</td> <td> 0.000</td> <td>   -1.710</td> <td>   -1.482</td>\n",
       "</tr>\n",
       "<tr>\n",
       "  <th>ar.L2</th>     <td>   -1.4472</td> <td>    0.046</td> <td>  -31.780</td> <td> 0.000</td> <td>   -1.536</td> <td>   -1.358</td>\n",
       "</tr>\n",
       "<tr>\n",
       "  <th>ar.L3</th>     <td>   -1.6171</td> <td>    0.044</td> <td>  -36.608</td> <td> 0.000</td> <td>   -1.704</td> <td>   -1.531</td>\n",
       "</tr>\n",
       "<tr>\n",
       "  <th>ar.L4</th>     <td>   -0.9147</td> <td>    0.057</td> <td>  -16.047</td> <td> 0.000</td> <td>   -1.026</td> <td>   -0.803</td>\n",
       "</tr>\n",
       "<tr>\n",
       "  <th>ma.L1</th>     <td>    0.5159</td> <td>    0.075</td> <td>    6.861</td> <td> 0.000</td> <td>    0.369</td> <td>    0.663</td>\n",
       "</tr>\n",
       "<tr>\n",
       "  <th>ma.L2</th>     <td>   -0.2331</td> <td>    0.060</td> <td>   -3.892</td> <td> 0.000</td> <td>   -0.350</td> <td>   -0.116</td>\n",
       "</tr>\n",
       "<tr>\n",
       "  <th>ma.L3</th>     <td>    0.0953</td> <td>    0.066</td> <td>    1.446</td> <td> 0.148</td> <td>   -0.034</td> <td>    0.225</td>\n",
       "</tr>\n",
       "<tr>\n",
       "  <th>ma.L4</th>     <td>   -0.6321</td> <td>    0.047</td> <td>  -13.442</td> <td> 0.000</td> <td>   -0.724</td> <td>   -0.540</td>\n",
       "</tr>\n",
       "<tr>\n",
       "  <th>ma.L5</th>     <td>   -0.6631</td> <td>    0.083</td> <td>   -7.960</td> <td> 0.000</td> <td>   -0.826</td> <td>   -0.500</td>\n",
       "</tr>\n",
       "<tr>\n",
       "  <th>sigma2</th>    <td> 3.569e+18</td> <td>  1.4e-20</td> <td> 2.54e+38</td> <td> 0.000</td> <td> 3.57e+18</td> <td> 3.57e+18</td>\n",
       "</tr>\n",
       "</table>\n",
       "<table class=\"simpletable\">\n",
       "<tr>\n",
       "  <th>Ljung-Box (L1) (Q):</th>     <td>0.09</td> <th>  Jarque-Bera (JB):  </th> <td>249.98</td>\n",
       "</tr>\n",
       "<tr>\n",
       "  <th>Prob(Q):</th>                <td>0.77</td> <th>  Prob(JB):          </th>  <td>0.00</td> \n",
       "</tr>\n",
       "<tr>\n",
       "  <th>Heteroskedasticity (H):</th> <td>1.72</td> <th>  Skew:              </th>  <td>0.51</td> \n",
       "</tr>\n",
       "<tr>\n",
       "  <th>Prob(H) (two-sided):</th>    <td>0.01</td> <th>  Kurtosis:          </th>  <td>7.35</td> \n",
       "</tr>\n",
       "</table><br/><br/>Warnings:<br/>[1] Covariance matrix calculated using the outer product of gradients (complex-step).<br/>[2] Covariance matrix is singular or near-singular, with condition number 1.47e+54. Standard errors may be unstable."
      ],
      "text/plain": [
       "<class 'statsmodels.iolib.summary.Summary'>\n",
       "\"\"\"\n",
       "                               SARIMAX Results                                \n",
       "==============================================================================\n",
       "Dep. Variable:                      y   No. Observations:                  301\n",
       "Model:               SARIMAX(4, 1, 5)   Log Likelihood               -6815.653\n",
       "Date:                Mon, 28 Nov 2022   AIC                          13653.305\n",
       "Time:                        19:49:42   BIC                          13694.047\n",
       "Sample:                    01-12-2014   HQIC                         13669.610\n",
       "                         - 10-13-2019                                         \n",
       "Covariance Type:                  opg                                         \n",
       "==============================================================================\n",
       "                 coef    std err          z      P>|z|      [0.025      0.975]\n",
       "------------------------------------------------------------------------------\n",
       "intercept  -1.377e+07   1.61e-10  -8.53e+16      0.000   -1.38e+07   -1.38e+07\n",
       "ar.L1         -1.5956      0.058    -27.411      0.000      -1.710      -1.482\n",
       "ar.L2         -1.4472      0.046    -31.780      0.000      -1.536      -1.358\n",
       "ar.L3         -1.6171      0.044    -36.608      0.000      -1.704      -1.531\n",
       "ar.L4         -0.9147      0.057    -16.047      0.000      -1.026      -0.803\n",
       "ma.L1          0.5159      0.075      6.861      0.000       0.369       0.663\n",
       "ma.L2         -0.2331      0.060     -3.892      0.000      -0.350      -0.116\n",
       "ma.L3          0.0953      0.066      1.446      0.148      -0.034       0.225\n",
       "ma.L4         -0.6321      0.047    -13.442      0.000      -0.724      -0.540\n",
       "ma.L5         -0.6631      0.083     -7.960      0.000      -0.826      -0.500\n",
       "sigma2      3.569e+18    1.4e-20   2.54e+38      0.000    3.57e+18    3.57e+18\n",
       "===================================================================================\n",
       "Ljung-Box (L1) (Q):                   0.09   Jarque-Bera (JB):               249.98\n",
       "Prob(Q):                              0.77   Prob(JB):                         0.00\n",
       "Heteroskedasticity (H):               1.72   Skew:                             0.51\n",
       "Prob(H) (two-sided):                  0.01   Kurtosis:                         7.35\n",
       "===================================================================================\n",
       "\n",
       "Warnings:\n",
       "[1] Covariance matrix calculated using the outer product of gradients (complex-step).\n",
       "[2] Covariance matrix is singular or near-singular, with condition number 1.47e+54. Standard errors may be unstable.\n",
       "\"\"\""
      ]
     },
     "execution_count": 170,
     "metadata": {},
     "output_type": "execute_result"
    }
   ],
   "source": [
    "# найдём p и q при помощи AUTO ARIMA:\n",
    "stepwise_fit = auto_arima(data_1_diff['value'], d=1, suppress_warnings=True, maxiter=200)\n",
    "stepwise_fit.summary()"
   ]
  },
  {
   "cell_type": "code",
   "execution_count": 173,
   "metadata": {},
   "outputs": [
    {
     "name": "stdout",
     "output_type": "stream",
     "text": [
      "(271, 1)\n",
      "(30, 1)\n"
     ]
    }
   ],
   "source": [
    "# разделим данные на тренировочные и тестовые в соотношении 90% и 10% соответственно\n",
    "training_data = data_1_diff.iloc[:-30]\n",
    "testing_data = data_1_diff.iloc[-30:]\n",
    "print(training_data.shape)\n",
    "print(testing_data.shape)"
   ]
  },
  {
   "cell_type": "markdown",
   "metadata": {},
   "source": [
    "## 2. Создание модели прогнозирования, анализ результатов"
   ]
  },
  {
   "cell_type": "code",
   "execution_count": 174,
   "metadata": {},
   "outputs": [
    {
     "name": "stderr",
     "output_type": "stream",
     "text": [
      "c:\\Users\\alpis\\AppData\\Local\\Programs\\Python\\Python39\\lib\\site-packages\\statsmodels\\tsa\\base\\tsa_model.py:471: ValueWarning: No frequency information was provided, so inferred frequency W-SUN will be used.\n",
      "  self._init_dates(dates, freq)\n",
      "c:\\Users\\alpis\\AppData\\Local\\Programs\\Python\\Python39\\lib\\site-packages\\statsmodels\\tsa\\base\\tsa_model.py:471: ValueWarning: No frequency information was provided, so inferred frequency W-SUN will be used.\n",
      "  self._init_dates(dates, freq)\n",
      "c:\\Users\\alpis\\AppData\\Local\\Programs\\Python\\Python39\\lib\\site-packages\\statsmodels\\tsa\\base\\tsa_model.py:471: ValueWarning: No frequency information was provided, so inferred frequency W-SUN will be used.\n",
      "  self._init_dates(dates, freq)\n",
      "c:\\Users\\alpis\\AppData\\Local\\Programs\\Python\\Python39\\lib\\site-packages\\statsmodels\\tsa\\statespace\\sarimax.py:966: UserWarning: Non-stationary starting autoregressive parameters found. Using zeros as starting parameters.\n",
      "  warn('Non-stationary starting autoregressive parameters'\n",
      "c:\\Users\\alpis\\AppData\\Local\\Programs\\Python\\Python39\\lib\\site-packages\\statsmodels\\base\\model.py:604: ConvergenceWarning: Maximum Likelihood optimization failed to converge. Check mle_retvals\n",
      "  warnings.warn(\"Maximum Likelihood optimization failed to \"\n"
     ]
    },
    {
     "data": {
      "text/plain": [
       "<AxesSubplot:xlabel='REPORTDATE'>"
      ]
     },
     "execution_count": 174,
     "metadata": {},
     "output_type": "execute_result"
    },
    {
     "data": {
      "image/png": "[encoded data removed]",
      "text/plain": [
       "<Figure size 432x288 with 1 Axes>"
      ]
     },
     "metadata": {
      "needs_background": "light"
     },
     "output_type": "display_data"
    }
   ],
   "source": [
    "# в ходе экспериментов удалось получить лучший результат со значениями p=7 и q=7\n",
    "model = ARIMA(training_data['value'], order=(7,1,7)) \n",
    "model=model.fit()\n",
    "model.summary()\n",
    "\n",
    "start = training_data.shape[0]\n",
    "end = training_data.shape[0] + testing_data.shape[0]-1\n",
    "pred = model.predict(start=start, end=end)\n",
    "pred.index = data_1_diff.index[start:end+1]\n",
    "\n",
    "pred.plot(legend=True, color='blue')\n",
    "testing_data['value'].plot(legend=True, color='green')"
   ]
  },
  {
   "cell_type": "code",
   "execution_count": 175,
   "metadata": {},
   "outputs": [
    {
     "name": "stdout",
     "output_type": "stream",
     "text": [
      "MAE: 1660797222 руб.\n",
      "MAPE: 0.98 %\n",
      "R2_score: 0.74\n"
     ]
    }
   ],
   "source": [
    "# оценим метрики модели\n",
    "mae = metrics.mean_absolute_error(pred, testing_data['value'])\n",
    "mape = metrics.mean_absolute_percentage_error(pred, testing_data['value'])\n",
    "r2 = metrics.r2_score(pred, testing_data['value'])\n",
    "\n",
    "print(f'MAE: {round(mae)} руб.')\n",
    "print(f'MAPE: {round(mape, 2)} %')\n",
    "print(f'R2_score: {round(r2, 2)}')\n"
   ]
  },
  {
   "cell_type": "markdown",
   "metadata": {},
   "source": [
    "## 3. Прогнозирование"
   ]
  },
  {
   "cell_type": "code",
   "execution_count": 230,
   "metadata": {},
   "outputs": [
    {
     "name": "stderr",
     "output_type": "stream",
     "text": [
      "C:\\Users\\alpis\\AppData\\Local\\Temp\\ipykernel_13432\\2443816332.py:3: FutureWarning: The series.append method is deprecated and will be removed from pandas in a future version. Use pandas.concat instead.\n",
      "  pred_restored = pd.Series(data['value'][0], index=[data['value'].index[0]]).append(pred).cumsum()\n"
     ]
    },
    {
     "data": {
      "text/html": [
       "<div>\n",
       "<style scoped>\n",
       "    .dataframe tbody tr th:only-of-type {\n",
       "        vertical-align: middle;\n",
       "    }\n",
       "\n",
       "    .dataframe tbody tr th {\n",
       "        vertical-align: top;\n",
       "    }\n",
       "\n",
       "    .dataframe thead th {\n",
       "        text-align: right;\n",
       "    }\n",
       "</style>\n",
       "<table border=\"1\" class=\"dataframe\">\n",
       "  <thead>\n",
       "    <tr style=\"text-align: right;\">\n",
       "      <th></th>\n",
       "      <th>ARIMA Predictions</th>\n",
       "    </tr>\n",
       "  </thead>\n",
       "  <tbody>\n",
       "    <tr>\n",
       "      <th>2014-01-05</th>\n",
       "      <td>3.422883e+09</td>\n",
       "    </tr>\n",
       "    <tr>\n",
       "      <th>2014-01-12</th>\n",
       "      <td>3.422883e+09</td>\n",
       "    </tr>\n",
       "    <tr>\n",
       "      <th>2014-01-19</th>\n",
       "      <td>3.509441e+09</td>\n",
       "    </tr>\n",
       "    <tr>\n",
       "      <th>2014-01-26</th>\n",
       "      <td>3.438549e+09</td>\n",
       "    </tr>\n",
       "    <tr>\n",
       "      <th>2014-02-02</th>\n",
       "      <td>3.401487e+09</td>\n",
       "    </tr>\n",
       "    <tr>\n",
       "      <th>...</th>\n",
       "      <td>...</td>\n",
       "    </tr>\n",
       "    <tr>\n",
       "      <th>2020-09-20</th>\n",
       "      <td>7.847079e+10</td>\n",
       "    </tr>\n",
       "    <tr>\n",
       "      <th>2020-09-27</th>\n",
       "      <td>7.468778e+10</td>\n",
       "    </tr>\n",
       "    <tr>\n",
       "      <th>2020-10-04</th>\n",
       "      <td>7.581441e+10</td>\n",
       "    </tr>\n",
       "    <tr>\n",
       "      <th>2020-10-11</th>\n",
       "      <td>8.188140e+10</td>\n",
       "    </tr>\n",
       "    <tr>\n",
       "      <th>2020-10-18</th>\n",
       "      <td>8.120778e+10</td>\n",
       "    </tr>\n",
       "  </tbody>\n",
       "</table>\n",
       "<p>355 rows × 1 columns</p>\n",
       "</div>"
      ],
      "text/plain": [
       "            ARIMA Predictions\n",
       "2014-01-05       3.422883e+09\n",
       "2014-01-12       3.422883e+09\n",
       "2014-01-19       3.509441e+09\n",
       "2014-01-26       3.438549e+09\n",
       "2014-02-02       3.401487e+09\n",
       "...                       ...\n",
       "2020-09-20       7.847079e+10\n",
       "2020-09-27       7.468778e+10\n",
       "2020-10-04       7.581441e+10\n",
       "2020-10-11       8.188140e+10\n",
       "2020-10-18       8.120778e+10\n",
       "\n",
       "[355 rows x 1 columns]"
      ]
     },
     "execution_count": 230,
     "metadata": {},
     "output_type": "execute_result"
    }
   ],
   "source": [
    "# спрогнозируем объем расчетных счетов физических лиц на год вперёд\n",
    "pred = model.predict(start=data_1_diff.index[0], end=data_1_diff.index[-1]+relativedelta(months=12)).rename('ARIMA Predictions')\n",
    "pred_restored = pd.Series(data['value'][0], index=[data['value'].index[0]]).append(pred).cumsum()\n",
    "pred_restored_df = pd.DataFrame(pred_restored, columns={'ARIMA Predictions':0})\n",
    "pred_restored_df"
   ]
  }
 ],
 "metadata": {
  "kernelspec": {
   "display_name": "Python 3.9.11 64-bit",
   "language": "python",
   "name": "python3"
  },
  "language_info": {
   "codemirror_mode": {
    "name": "ipython",
    "version": 3
   },
   "file_extension": ".py",
   "mimetype": "text/x-python",
   "name": "python",
   "nbconvert_exporter": "python",
   "pygments_lexer": "ipython3",
   "version": "3.9.11"
  },
  "orig_nbformat": 4,
  "vscode": {
   "interpreter": {
    "hash": "4d8932228add34e79085d54418739927758047413581aff5db7a73e07d1d9df5"
   }
  }
 },
 "nbformat": 4,
 "nbformat_minor": 2
}

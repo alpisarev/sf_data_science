{
 "cells": [
  {
   "cell_type": "markdown",
   "metadata": {},
   "source": [
    "# Прогнозирование биологического ответа молекул"
   ]
  },
  {
   "cell_type": "code",
   "execution_count": 1,
   "metadata": {},
   "outputs": [
    {
     "name": "stderr",
     "output_type": "stream",
     "text": [
      "c:\\Users\\alpis\\AppData\\Local\\Programs\\Python\\Python39\\lib\\site-packages\\tqdm\\auto.py:22: TqdmWarning: IProgress not found. Please update jupyter and ipywidgets. See https://ipywidgets.readthedocs.io/en/stable/user_install.html\n",
      "  from .autonotebook import tqdm as notebook_tqdm\n"
     ]
    }
   ],
   "source": [
    "# импортируем необходимые для работы библиотеки\n",
    "import pandas as pd\n",
    "import numpy as np\n",
    "from sklearn.model_selection import KFold, cross_validate, train_test_split\n",
    "import seaborn as sns\n",
    "from sklearn.linear_model import LogisticRegression\n",
    "from sklearn.ensemble import RandomForestClassifier\n",
    "from sklearn.metrics import f1_score\n",
    "from sklearn.model_selection import GridSearchCV\n",
    "import optuna"
   ]
  },
  {
   "cell_type": "code",
   "execution_count": 2,
   "metadata": {},
   "outputs": [
    {
     "data": {
      "text/html": [
       "<div>\n",
       "<style scoped>\n",
       "    .dataframe tbody tr th:only-of-type {\n",
       "        vertical-align: middle;\n",
       "    }\n",
       "\n",
       "    .dataframe tbody tr th {\n",
       "        vertical-align: top;\n",
       "    }\n",
       "\n",
       "    .dataframe thead th {\n",
       "        text-align: right;\n",
       "    }\n",
       "</style>\n",
       "<table border=\"1\" class=\"dataframe\">\n",
       "  <thead>\n",
       "    <tr style=\"text-align: right;\">\n",
       "      <th></th>\n",
       "      <th>Activity</th>\n",
       "      <th>D1</th>\n",
       "      <th>D2</th>\n",
       "      <th>D3</th>\n",
       "      <th>D4</th>\n",
       "      <th>D5</th>\n",
       "      <th>D6</th>\n",
       "      <th>D7</th>\n",
       "      <th>D8</th>\n",
       "      <th>D9</th>\n",
       "      <th>...</th>\n",
       "      <th>D1767</th>\n",
       "      <th>D1768</th>\n",
       "      <th>D1769</th>\n",
       "      <th>D1770</th>\n",
       "      <th>D1771</th>\n",
       "      <th>D1772</th>\n",
       "      <th>D1773</th>\n",
       "      <th>D1774</th>\n",
       "      <th>D1775</th>\n",
       "      <th>D1776</th>\n",
       "    </tr>\n",
       "  </thead>\n",
       "  <tbody>\n",
       "    <tr>\n",
       "      <th>3746</th>\n",
       "      <td>1</td>\n",
       "      <td>0.033300</td>\n",
       "      <td>0.506409</td>\n",
       "      <td>0.10</td>\n",
       "      <td>0.0</td>\n",
       "      <td>0.209887</td>\n",
       "      <td>0.633426</td>\n",
       "      <td>0.297659</td>\n",
       "      <td>0.376124</td>\n",
       "      <td>0.727093</td>\n",
       "      <td>...</td>\n",
       "      <td>0</td>\n",
       "      <td>0</td>\n",
       "      <td>0</td>\n",
       "      <td>0</td>\n",
       "      <td>0</td>\n",
       "      <td>0</td>\n",
       "      <td>0</td>\n",
       "      <td>0</td>\n",
       "      <td>0</td>\n",
       "      <td>0</td>\n",
       "    </tr>\n",
       "    <tr>\n",
       "      <th>3747</th>\n",
       "      <td>1</td>\n",
       "      <td>0.133333</td>\n",
       "      <td>0.651023</td>\n",
       "      <td>0.15</td>\n",
       "      <td>0.0</td>\n",
       "      <td>0.151154</td>\n",
       "      <td>0.766505</td>\n",
       "      <td>0.170876</td>\n",
       "      <td>0.404546</td>\n",
       "      <td>0.787935</td>\n",
       "      <td>...</td>\n",
       "      <td>0</td>\n",
       "      <td>0</td>\n",
       "      <td>1</td>\n",
       "      <td>0</td>\n",
       "      <td>1</td>\n",
       "      <td>0</td>\n",
       "      <td>1</td>\n",
       "      <td>0</td>\n",
       "      <td>0</td>\n",
       "      <td>0</td>\n",
       "    </tr>\n",
       "    <tr>\n",
       "      <th>3748</th>\n",
       "      <td>0</td>\n",
       "      <td>0.200000</td>\n",
       "      <td>0.520564</td>\n",
       "      <td>0.00</td>\n",
       "      <td>0.0</td>\n",
       "      <td>0.179949</td>\n",
       "      <td>0.768785</td>\n",
       "      <td>0.177341</td>\n",
       "      <td>0.471179</td>\n",
       "      <td>0.872241</td>\n",
       "      <td>...</td>\n",
       "      <td>0</td>\n",
       "      <td>0</td>\n",
       "      <td>0</td>\n",
       "      <td>0</td>\n",
       "      <td>0</td>\n",
       "      <td>0</td>\n",
       "      <td>0</td>\n",
       "      <td>0</td>\n",
       "      <td>0</td>\n",
       "      <td>0</td>\n",
       "    </tr>\n",
       "    <tr>\n",
       "      <th>3749</th>\n",
       "      <td>1</td>\n",
       "      <td>0.100000</td>\n",
       "      <td>0.765646</td>\n",
       "      <td>0.00</td>\n",
       "      <td>0.0</td>\n",
       "      <td>0.536954</td>\n",
       "      <td>0.634936</td>\n",
       "      <td>0.342713</td>\n",
       "      <td>0.447162</td>\n",
       "      <td>0.672689</td>\n",
       "      <td>...</td>\n",
       "      <td>0</td>\n",
       "      <td>0</td>\n",
       "      <td>0</td>\n",
       "      <td>0</td>\n",
       "      <td>0</td>\n",
       "      <td>0</td>\n",
       "      <td>0</td>\n",
       "      <td>0</td>\n",
       "      <td>0</td>\n",
       "      <td>0</td>\n",
       "    </tr>\n",
       "    <tr>\n",
       "      <th>3750</th>\n",
       "      <td>0</td>\n",
       "      <td>0.133333</td>\n",
       "      <td>0.533952</td>\n",
       "      <td>0.00</td>\n",
       "      <td>0.0</td>\n",
       "      <td>0.347966</td>\n",
       "      <td>0.757971</td>\n",
       "      <td>0.230667</td>\n",
       "      <td>0.272652</td>\n",
       "      <td>0.854116</td>\n",
       "      <td>...</td>\n",
       "      <td>0</td>\n",
       "      <td>0</td>\n",
       "      <td>0</td>\n",
       "      <td>0</td>\n",
       "      <td>0</td>\n",
       "      <td>0</td>\n",
       "      <td>0</td>\n",
       "      <td>0</td>\n",
       "      <td>0</td>\n",
       "      <td>0</td>\n",
       "    </tr>\n",
       "  </tbody>\n",
       "</table>\n",
       "<p>5 rows × 1777 columns</p>\n",
       "</div>"
      ],
      "text/plain": [
       "      Activity        D1        D2    D3   D4        D5        D6        D7  \\\n",
       "3746         1  0.033300  0.506409  0.10  0.0  0.209887  0.633426  0.297659   \n",
       "3747         1  0.133333  0.651023  0.15  0.0  0.151154  0.766505  0.170876   \n",
       "3748         0  0.200000  0.520564  0.00  0.0  0.179949  0.768785  0.177341   \n",
       "3749         1  0.100000  0.765646  0.00  0.0  0.536954  0.634936  0.342713   \n",
       "3750         0  0.133333  0.533952  0.00  0.0  0.347966  0.757971  0.230667   \n",
       "\n",
       "            D8        D9  ...  D1767  D1768  D1769  D1770  D1771  D1772  \\\n",
       "3746  0.376124  0.727093  ...      0      0      0      0      0      0   \n",
       "3747  0.404546  0.787935  ...      0      0      1      0      1      0   \n",
       "3748  0.471179  0.872241  ...      0      0      0      0      0      0   \n",
       "3749  0.447162  0.672689  ...      0      0      0      0      0      0   \n",
       "3750  0.272652  0.854116  ...      0      0      0      0      0      0   \n",
       "\n",
       "      D1773  D1774  D1775  D1776  \n",
       "3746      0      0      0      0  \n",
       "3747      1      0      0      0  \n",
       "3748      0      0      0      0  \n",
       "3749      0      0      0      0  \n",
       "3750      0      0      0      0  \n",
       "\n",
       "[5 rows x 1777 columns]"
      ]
     },
     "execution_count": 2,
     "metadata": {},
     "output_type": "execute_result"
    }
   ],
   "source": [
    "data = pd.read_csv('data/_train_sem09 (1).csv') # импортируем датасет\n",
    "data.tail()"
   ]
  },
  {
   "cell_type": "code",
   "execution_count": 3,
   "metadata": {},
   "outputs": [
    {
     "name": "stderr",
     "output_type": "stream",
     "text": [
      "c:\\Users\\alpis\\AppData\\Local\\Programs\\Python\\Python39\\lib\\site-packages\\seaborn\\_decorators.py:36: FutureWarning: Pass the following variable as a keyword arg: x. From version 0.12, the only valid positional argument will be `data`, and passing other arguments without an explicit keyword will result in an error or misinterpretation.\n",
      "  warnings.warn(\n"
     ]
    },
    {
     "data": {
      "text/plain": [
       "<AxesSubplot:xlabel='Activity', ylabel='count'>"
      ]
     },
     "execution_count": 3,
     "metadata": {},
     "output_type": "execute_result"
    },
    {
     "data": {
      "image/png": "[encoded data removed]",
      "text/plain": [
       "<Figure size 432x288 with 1 Axes>"
      ]
     },
     "metadata": {
      "needs_background": "light"
     },
     "output_type": "display_data"
    }
   ],
   "source": [
    "sns.countplot(data['Activity']) # проверим сбалансированность классов"
   ]
  },
  {
   "cell_type": "markdown",
   "metadata": {},
   "source": [
    "Дисбаланс классов небольшой. Но всё же при разделении выборки на тренировочную и тестовую используем параметр stratify для сохранения соотношения целевого признака."
   ]
  },
  {
   "cell_type": "code",
   "execution_count": 4,
   "metadata": {},
   "outputs": [],
   "source": [
    "# разбиваем датасет на тренировочную и тестовую выборки со стратификацией по целевому признаку\n",
    "random_state = 1\n",
    "X = data.drop(['Activity'], axis=1)\n",
    "y = data['Activity']\n",
    "X_train, X_test, y_train, y_test = train_test_split(X, y, test_size=0.2, random_state=random_state, stratify=y)"
   ]
  },
  {
   "cell_type": "markdown",
   "metadata": {},
   "source": [
    "Перед подбором гиперпараметров моделей логистической регрессии и случайного леса с помощью базовых и продвинутых методов оптимизации зафиксируем метрику f1 со значениями гиперпараметров моделей по умолчанию."
   ]
  },
  {
   "cell_type": "code",
   "execution_count": 5,
   "metadata": {},
   "outputs": [
    {
     "name": "stderr",
     "output_type": "stream",
     "text": [
      "c:\\Users\\alpis\\AppData\\Local\\Programs\\Python\\Python39\\lib\\site-packages\\sklearn\\linear_model\\_logistic.py:444: ConvergenceWarning: lbfgs failed to converge (status=1):\n",
      "STOP: TOTAL NO. of ITERATIONS REACHED LIMIT.\n",
      "\n",
      "Increase the number of iterations (max_iter) or scale the data as shown in:\n",
      "    https://scikit-learn.org/stable/modules/preprocessing.html\n",
      "Please also refer to the documentation for alternative solver options:\n",
      "    https://scikit-learn.org/stable/modules/linear_model.html#logistic-regression\n",
      "  n_iter_i = _check_optimize_result(\n",
      "c:\\Users\\alpis\\AppData\\Local\\Programs\\Python\\Python39\\lib\\site-packages\\sklearn\\linear_model\\_logistic.py:444: ConvergenceWarning: lbfgs failed to converge (status=1):\n",
      "STOP: TOTAL NO. of ITERATIONS REACHED LIMIT.\n",
      "\n",
      "Increase the number of iterations (max_iter) or scale the data as shown in:\n",
      "    https://scikit-learn.org/stable/modules/preprocessing.html\n",
      "Please also refer to the documentation for alternative solver options:\n",
      "    https://scikit-learn.org/stable/modules/linear_model.html#logistic-regression\n",
      "  n_iter_i = _check_optimize_result(\n",
      "c:\\Users\\alpis\\AppData\\Local\\Programs\\Python\\Python39\\lib\\site-packages\\sklearn\\linear_model\\_logistic.py:444: ConvergenceWarning: lbfgs failed to converge (status=1):\n",
      "STOP: TOTAL NO. of ITERATIONS REACHED LIMIT.\n",
      "\n",
      "Increase the number of iterations (max_iter) or scale the data as shown in:\n",
      "    https://scikit-learn.org/stable/modules/preprocessing.html\n",
      "Please also refer to the documentation for alternative solver options:\n",
      "    https://scikit-learn.org/stable/modules/linear_model.html#logistic-regression\n",
      "  n_iter_i = _check_optimize_result(\n",
      "c:\\Users\\alpis\\AppData\\Local\\Programs\\Python\\Python39\\lib\\site-packages\\sklearn\\linear_model\\_logistic.py:444: ConvergenceWarning: lbfgs failed to converge (status=1):\n",
      "STOP: TOTAL NO. of ITERATIONS REACHED LIMIT.\n",
      "\n",
      "Increase the number of iterations (max_iter) or scale the data as shown in:\n",
      "    https://scikit-learn.org/stable/modules/preprocessing.html\n",
      "Please also refer to the documentation for alternative solver options:\n",
      "    https://scikit-learn.org/stable/modules/linear_model.html#logistic-regression\n",
      "  n_iter_i = _check_optimize_result(\n",
      "c:\\Users\\alpis\\AppData\\Local\\Programs\\Python\\Python39\\lib\\site-packages\\sklearn\\linear_model\\_logistic.py:444: ConvergenceWarning: lbfgs failed to converge (status=1):\n",
      "STOP: TOTAL NO. of ITERATIONS REACHED LIMIT.\n",
      "\n",
      "Increase the number of iterations (max_iter) or scale the data as shown in:\n",
      "    https://scikit-learn.org/stable/modules/preprocessing.html\n",
      "Please also refer to the documentation for alternative solver options:\n",
      "    https://scikit-learn.org/stable/modules/linear_model.html#logistic-regression\n",
      "  n_iter_i = _check_optimize_result(\n"
     ]
    },
    {
     "data": {
      "text/plain": [
       "{'fit_time': array([0.4396677 , 0.35096431, 0.35881186, 0.38901281, 0.3739078 ]),\n",
       " 'score_time': array([0.01391959, 0.01478219, 0.01398087, 0.0131855 , 0.01392984]),\n",
       " 'test_score': array([0.77373974, 0.7601476 , 0.77672209, 0.78688525, 0.77435265])}"
      ]
     },
     "execution_count": 5,
     "metadata": {},
     "output_type": "execute_result"
    }
   ],
   "source": [
    "# создадим объект класса логистическая регрессия. Согласно условию задания, количество итераций ограничим 50.\n",
    "# обучим модель с использованием кросс-валидации на 5 фолдах\n",
    "log_reg = LogisticRegression(max_iter=50)\n",
    "kf = KFold()\n",
    "lr_cv_metrics = cross_validate(\n",
    "    estimator=log_reg,\n",
    "    X=X,\n",
    "    y=y,\n",
    "    cv=kf,\n",
    "    scoring='f1'\n",
    ")\n",
    "lr_cv_metrics"
   ]
  },
  {
   "cell_type": "code",
   "execution_count": 6,
   "metadata": {},
   "outputs": [
    {
     "name": "stdout",
     "output_type": "stream",
     "text": [
      "LogisticRegression со значениями гиперпараметров по умолчанию.\n",
      "f1_score на тестовом наборе данных: 0.77\n"
     ]
    }
   ],
   "source": [
    "print('LogisticRegression со значениями гиперпараметров по умолчанию.')\n",
    "print(\"f1_score на тестовом наборе данных: {:.2f}\".format(np.mean(lr_cv_metrics['test_score'])))"
   ]
  },
  {
   "cell_type": "code",
   "execution_count": 7,
   "metadata": {},
   "outputs": [
    {
     "data": {
      "text/plain": [
       "{'fit_time': array([1.53886414, 1.40459132, 1.5650866 , 1.37486577, 1.49225521]),\n",
       " 'score_time': array([0.04120922, 0.03842998, 0.03796744, 0.03399324, 0.03131604]),\n",
       " 'test_score': array([0.82703322, 0.80798005, 0.78824969, 0.82233503, 0.8097561 ])}"
      ]
     },
     "execution_count": 7,
     "metadata": {},
     "output_type": "execute_result"
    }
   ],
   "source": [
    "# аналогичную процедуру проведём для модели случайного леса\n",
    "r_forest = RandomForestClassifier()\n",
    "rf_cv_metrics = cross_validate(\n",
    "    estimator=r_forest,\n",
    "    X=X,\n",
    "    y=y,\n",
    "    cv=kf,\n",
    "    scoring='f1'\n",
    ")\n",
    "rf_cv_metrics"
   ]
  },
  {
   "cell_type": "code",
   "execution_count": 8,
   "metadata": {},
   "outputs": [
    {
     "name": "stdout",
     "output_type": "stream",
     "text": [
      "RandomForestClassifier со значениями гиперпараметров по умолчанию.\n",
      "f1_score на тестовом наборе данных: 0.81\n"
     ]
    }
   ],
   "source": [
    "print('RandomForestClassifier со значениями гиперпараметров по умолчанию.')\n",
    "print(\"f1_score на тестовом наборе данных: {:.2f}\".format(np.mean(rf_cv_metrics['test_score'])))"
   ]
  },
  {
   "cell_type": "markdown",
   "metadata": {},
   "source": [
    "Получено два значения f1_score, от которых будем отталкиваться при дальнейшем подборе гиперпараметров моделей:\n",
    "- 0.77 для LogisticRegression\n",
    "- 0.81 для RandomForestClassifier"
   ]
  },
  {
   "cell_type": "markdown",
   "metadata": {},
   "source": [
    "### <center> LogisticRegression + GridSearchCV"
   ]
  },
  {
   "cell_type": "code",
   "execution_count": 9,
   "metadata": {},
   "outputs": [
    {
     "name": "stderr",
     "output_type": "stream",
     "text": [
      "c:\\Users\\alpis\\AppData\\Local\\Programs\\Python\\Python39\\lib\\site-packages\\sklearn\\model_selection\\_validation.py:378: FitFailedWarning: \n",
      "210 fits failed out of a total of 420.\n",
      "The score on these train-test partitions for these parameters will be set to nan.\n",
      "If these failures are not expected, you can try to debug them by setting error_score='raise'.\n",
      "\n",
      "Below are more details about the failures:\n",
      "--------------------------------------------------------------------------------\n",
      "35 fits failed with the following error:\n",
      "Traceback (most recent call last):\n",
      "  File \"c:\\Users\\alpis\\AppData\\Local\\Programs\\Python\\Python39\\lib\\site-packages\\sklearn\\model_selection\\_validation.py\", line 686, in _fit_and_score\n",
      "    estimator.fit(X_train, y_train, **fit_params)\n",
      "  File \"c:\\Users\\alpis\\AppData\\Local\\Programs\\Python\\Python39\\lib\\site-packages\\sklearn\\linear_model\\_logistic.py\", line 1091, in fit\n",
      "    solver = _check_solver(self.solver, self.penalty, self.dual)\n",
      "  File \"c:\\Users\\alpis\\AppData\\Local\\Programs\\Python\\Python39\\lib\\site-packages\\sklearn\\linear_model\\_logistic.py\", line 61, in _check_solver\n",
      "    raise ValueError(\n",
      "ValueError: Solver lbfgs supports only 'l2' or 'none' penalties, got l1 penalty.\n",
      "\n",
      "--------------------------------------------------------------------------------\n",
      "35 fits failed with the following error:\n",
      "Traceback (most recent call last):\n",
      "  File \"c:\\Users\\alpis\\AppData\\Local\\Programs\\Python\\Python39\\lib\\site-packages\\sklearn\\model_selection\\_validation.py\", line 686, in _fit_and_score\n",
      "    estimator.fit(X_train, y_train, **fit_params)\n",
      "  File \"c:\\Users\\alpis\\AppData\\Local\\Programs\\Python\\Python39\\lib\\site-packages\\sklearn\\linear_model\\_logistic.py\", line 1091, in fit\n",
      "    solver = _check_solver(self.solver, self.penalty, self.dual)\n",
      "  File \"c:\\Users\\alpis\\AppData\\Local\\Programs\\Python\\Python39\\lib\\site-packages\\sklearn\\linear_model\\_logistic.py\", line 61, in _check_solver\n",
      "    raise ValueError(\n",
      "ValueError: Solver sag supports only 'l2' or 'none' penalties, got l1 penalty.\n",
      "\n",
      "--------------------------------------------------------------------------------\n",
      "140 fits failed with the following error:\n",
      "Traceback (most recent call last):\n",
      "  File \"c:\\Users\\alpis\\AppData\\Local\\Programs\\Python\\Python39\\lib\\site-packages\\sklearn\\model_selection\\_validation.py\", line 686, in _fit_and_score\n",
      "    estimator.fit(X_train, y_train, **fit_params)\n",
      "  File \"c:\\Users\\alpis\\AppData\\Local\\Programs\\Python\\Python39\\lib\\site-packages\\sklearn\\linear_model\\_logistic.py\", line 1091, in fit\n",
      "    solver = _check_solver(self.solver, self.penalty, self.dual)\n",
      "  File \"c:\\Users\\alpis\\AppData\\Local\\Programs\\Python\\Python39\\lib\\site-packages\\sklearn\\linear_model\\_logistic.py\", line 55, in _check_solver\n",
      "    raise ValueError(\n",
      "ValueError: Logistic Regression supports only penalties in ['l1', 'l2', 'elasticnet', 'none'], got elasticnetnone.\n",
      "\n",
      "  warnings.warn(some_fits_failed_message, FitFailedWarning)\n",
      "c:\\Users\\alpis\\AppData\\Local\\Programs\\Python\\Python39\\lib\\site-packages\\sklearn\\model_selection\\_search.py:953: UserWarning: One or more of the test scores are non-finite: [       nan        nan 0.73566667 0.73566667 0.75466667 0.75466667\n",
      " 0.75366667 0.75266667        nan        nan        nan        nan\n",
      "        nan        nan 0.755      0.754      0.759      0.75866667\n",
      " 0.75866667 0.75866667        nan        nan        nan        nan\n",
      "        nan        nan 0.758      0.756      0.75533333 0.75733333\n",
      " 0.757      0.75566667        nan        nan        nan        nan\n",
      "        nan        nan 0.75566667 0.75366667 0.75033333 0.756\n",
      " 0.757      0.752             nan        nan        nan        nan\n",
      "        nan        nan 0.75866667 0.74966667 0.749      0.75133333\n",
      " 0.75733333 0.74766667        nan        nan        nan        nan\n",
      "        nan        nan 0.758      0.747      0.74466667 0.75133333\n",
      " 0.757      0.74733333        nan        nan        nan        nan\n",
      "        nan        nan 0.757      0.74466667 0.74466667 0.75166667\n",
      " 0.75633333 0.74666667        nan        nan        nan        nan]\n",
      "  warnings.warn(\n"
     ]
    },
    {
     "name": "stdout",
     "output_type": "stream",
     "text": [
      "CPU times: total: 3.5 s\n",
      "Wall time: 42.8 s\n",
      "f1_score на тестовом наборе данных: 0.79\n",
      "Наилучшие значения гиперпараметров: {'C': 0.1, 'penalty': 'l2', 'solver': 'lbfgs'}\n"
     ]
    },
    {
     "name": "stderr",
     "output_type": "stream",
     "text": [
      "c:\\Users\\alpis\\AppData\\Local\\Programs\\Python\\Python39\\lib\\site-packages\\sklearn\\linear_model\\_logistic.py:444: ConvergenceWarning: lbfgs failed to converge (status=1):\n",
      "STOP: TOTAL NO. of ITERATIONS REACHED LIMIT.\n",
      "\n",
      "Increase the number of iterations (max_iter) or scale the data as shown in:\n",
      "    https://scikit-learn.org/stable/modules/preprocessing.html\n",
      "Please also refer to the documentation for alternative solver options:\n",
      "    https://scikit-learn.org/stable/modules/linear_model.html#logistic-regression\n",
      "  n_iter_i = _check_optimize_result(\n"
     ]
    }
   ],
   "source": [
    "#зададим сетку гиперпараметров модели\n",
    "lr_param_grid = {\n",
    "    'penalty': ['l1', 'l2', 'elasticnet' 'none'], # тип регуляризации\n",
    "    'solver': ['lbfgs', 'sag', 'saga', 'liblinear'], # алгоритм оптимизации\n",
    "    'C': [0.01, 0.1, 0.3, 0.5, 0.7, 0.9, 1] # уровень силы регурялизации\n",
    "}\n",
    "\n",
    "grid_search_lr = GridSearchCV(\n",
    "    estimator=LogisticRegression(random_state=random_state, max_iter=50),\n",
    "    param_grid=lr_param_grid,\n",
    "    n_jobs=-1,\n",
    "    cv=5\n",
    ")\n",
    "\n",
    "%time grid_search_lr.fit(X_train, y_train)\n",
    "y_test_pred = grid_search_lr.predict(X_test)\n",
    "print('f1_score на тестовом наборе данных: {:.2f}'.format(f1_score(y_test, y_test_pred)))\n",
    "print(\"Наилучшие значения гиперпараметров: {}\".format(grid_search_lr.best_params_))"
   ]
  },
  {
   "cell_type": "markdown",
   "metadata": {},
   "source": [
    "После подбора гиперпараметров с использованием GridSearchCV далось улучшить метрику f1_score для модели логистической регрессии с 0.77 до 0.79."
   ]
  },
  {
   "cell_type": "markdown",
   "metadata": {},
   "source": [
    "### <center> LogisticRegression + RandomizedSearchCV"
   ]
  },
  {
   "cell_type": "code",
   "execution_count": 10,
   "metadata": {},
   "outputs": [
    {
     "name": "stderr",
     "output_type": "stream",
     "text": [
      "c:\\Users\\alpis\\AppData\\Local\\Programs\\Python\\Python39\\lib\\site-packages\\sklearn\\model_selection\\_search.py:306: UserWarning: The total space of parameters 30 is smaller than n_iter=50. Running 30 iterations. For exhaustive searches, use GridSearchCV.\n",
      "  warnings.warn(\n",
      "c:\\Users\\alpis\\AppData\\Local\\Programs\\Python\\Python39\\lib\\site-packages\\sklearn\\model_selection\\_validation.py:378: FitFailedWarning: \n",
      "125 fits failed out of a total of 150.\n",
      "The score on these train-test partitions for these parameters will be set to nan.\n",
      "If these failures are not expected, you can try to debug them by setting error_score='raise'.\n",
      "\n",
      "Below are more details about the failures:\n",
      "--------------------------------------------------------------------------------\n",
      "25 fits failed with the following error:\n",
      "Traceback (most recent call last):\n",
      "  File \"c:\\Users\\alpis\\AppData\\Local\\Programs\\Python\\Python39\\lib\\site-packages\\sklearn\\model_selection\\_validation.py\", line 686, in _fit_and_score\n",
      "    estimator.fit(X_train, y_train, **fit_params)\n",
      "  File \"c:\\Users\\alpis\\AppData\\Local\\Programs\\Python\\Python39\\lib\\site-packages\\sklearn\\linear_model\\_logistic.py\", line 1091, in fit\n",
      "    solver = _check_solver(self.solver, self.penalty, self.dual)\n",
      "  File \"c:\\Users\\alpis\\AppData\\Local\\Programs\\Python\\Python39\\lib\\site-packages\\sklearn\\linear_model\\_logistic.py\", line 61, in _check_solver\n",
      "    raise ValueError(\n",
      "ValueError: Solver lbfgs supports only 'l2' or 'none' penalties, got l1 penalty.\n",
      "\n",
      "--------------------------------------------------------------------------------\n",
      "75 fits failed with the following error:\n",
      "Traceback (most recent call last):\n",
      "  File \"c:\\Users\\alpis\\AppData\\Local\\Programs\\Python\\Python39\\lib\\site-packages\\sklearn\\model_selection\\_validation.py\", line 686, in _fit_and_score\n",
      "    estimator.fit(X_train, y_train, **fit_params)\n",
      "  File \"c:\\Users\\alpis\\AppData\\Local\\Programs\\Python\\Python39\\lib\\site-packages\\sklearn\\linear_model\\_logistic.py\", line 1091, in fit\n",
      "    solver = _check_solver(self.solver, self.penalty, self.dual)\n",
      "  File \"c:\\Users\\alpis\\AppData\\Local\\Programs\\Python\\Python39\\lib\\site-packages\\sklearn\\linear_model\\_logistic.py\", line 48, in _check_solver\n",
      "    raise ValueError(\n",
      "ValueError: Logistic Regression supports only solvers in ['liblinear', 'newton-cg', 'lbfgs', 'sag', 'saga'], got sagaliblinear.\n",
      "\n",
      "--------------------------------------------------------------------------------\n",
      "25 fits failed with the following error:\n",
      "Traceback (most recent call last):\n",
      "  File \"c:\\Users\\alpis\\AppData\\Local\\Programs\\Python\\Python39\\lib\\site-packages\\sklearn\\model_selection\\_validation.py\", line 686, in _fit_and_score\n",
      "    estimator.fit(X_train, y_train, **fit_params)\n",
      "  File \"c:\\Users\\alpis\\AppData\\Local\\Programs\\Python\\Python39\\lib\\site-packages\\sklearn\\linear_model\\_logistic.py\", line 1091, in fit\n",
      "    solver = _check_solver(self.solver, self.penalty, self.dual)\n",
      "  File \"c:\\Users\\alpis\\AppData\\Local\\Programs\\Python\\Python39\\lib\\site-packages\\sklearn\\linear_model\\_logistic.py\", line 61, in _check_solver\n",
      "    raise ValueError(\n",
      "ValueError: Solver lbfgs supports only 'l2' or 'none' penalties, got elasticnet penalty.\n",
      "\n",
      "  warnings.warn(some_fits_failed_message, FitFailedWarning)\n",
      "c:\\Users\\alpis\\AppData\\Local\\Programs\\Python\\Python39\\lib\\site-packages\\sklearn\\model_selection\\_search.py:953: UserWarning: One or more of the test scores are non-finite: [       nan        nan 0.75466667        nan        nan        nan\n",
      "        nan        nan 0.76              nan        nan        nan\n",
      "        nan        nan 0.75966667        nan        nan        nan\n",
      "        nan        nan 0.75933333        nan        nan        nan\n",
      "        nan        nan 0.759             nan        nan        nan]\n",
      "  warnings.warn(\n"
     ]
    },
    {
     "name": "stdout",
     "output_type": "stream",
     "text": [
      "CPU times: total: 2.41 s\n",
      "Wall time: 7.41 s\n",
      "f1_score на тестовом наборе: 0.79\n",
      "Наилучшие значения гиперпараметров: {'solver': 'lbfgs', 'penalty': 'l2', 'C': 0.03}\n"
     ]
    },
    {
     "name": "stderr",
     "output_type": "stream",
     "text": [
      "c:\\Users\\alpis\\AppData\\Local\\Programs\\Python\\Python39\\lib\\site-packages\\sklearn\\linear_model\\_logistic.py:444: ConvergenceWarning: lbfgs failed to converge (status=1):\n",
      "STOP: TOTAL NO. of ITERATIONS REACHED LIMIT.\n",
      "\n",
      "Increase the number of iterations (max_iter) or scale the data as shown in:\n",
      "    https://scikit-learn.org/stable/modules/preprocessing.html\n",
      "Please also refer to the documentation for alternative solver options:\n",
      "    https://scikit-learn.org/stable/modules/linear_model.html#logistic-regression\n",
      "  n_iter_i = _check_optimize_result(\n"
     ]
    }
   ],
   "source": [
    "from sklearn.model_selection import RandomizedSearchCV\n",
    "\n",
    "# зададим возможные гиперпараметры модели\n",
    "lr_param_distributions = {\n",
    "              'penalty': ['l1', 'l2', 'elasticnet'] , # тип регуляризации\n",
    "              'solver': ['lbfgs', 'saga' 'liblinear'], # алгоритм оптимизации\n",
    "               'C': [0.01, 0.03, 0.05, 0.07, 0.1] # уровень силы регурялизации\n",
    "}\n",
    "\n",
    "rand_search_lr = RandomizedSearchCV(\n",
    "    estimator=LogisticRegression(random_state=random_state, max_iter=50), \n",
    "    param_distributions=lr_param_distributions, \n",
    "    cv=5, \n",
    "    n_jobs = -1,\n",
    "    n_iter=50\n",
    ")  \n",
    "\n",
    "%time rand_search_lr.fit(X_train, y_train)\n",
    "y_test_pred = rand_search_lr.predict(X_test)\n",
    "print('f1_score на тестовом наборе: {:.2f}'.format(f1_score(y_test, y_test_pred)))\n",
    "print(\"Наилучшие значения гиперпараметров: {}\".format(rand_search_lr.best_params_))"
   ]
  },
  {
   "cell_type": "markdown",
   "metadata": {},
   "source": [
    "Значение целевой метрики в сравнении с GridSearchCV не изменилось, однако нам удалось значительно сократить время, затрачиваемое на подбор оптимальных гиперпараметров."
   ]
  },
  {
   "cell_type": "markdown",
   "metadata": {},
   "source": [
    "### <center> RandomForest + Hyperopt"
   ]
  },
  {
   "cell_type": "code",
   "execution_count": 11,
   "metadata": {},
   "outputs": [],
   "source": [
    "import hyperopt\n",
    "from hyperopt import hp, fmin, tpe, Trials\n",
    "from sklearn.model_selection import cross_val_score\n",
    "\n",
    "# зададим пространство поиска гиперпараметров\n",
    "space = {\n",
    "    'n_estimators' : hp.quniform('n_estimators', 50, 201, 30,),\n",
    "    'min_samples_leaf' : hp.quniform('min_samples_leaf', 3, 7, 1),\n",
    "    'max_depth' : hp.quniform('max_depth', 10, 26, 5)    \n",
    "}"
   ]
  },
  {
   "cell_type": "code",
   "execution_count": 12,
   "metadata": {},
   "outputs": [],
   "source": [
    "def hyperopt_rf(params, cv=5, X=X_train, y=y_train, n_iter=50, random_state=random_state):\n",
    "    params = {'n_estimators': int(params['n_estimators']), \n",
    "              'max_depth': int(params['max_depth']), \n",
    "             'min_samples_leaf': int(params['min_samples_leaf'])\n",
    "              }\n",
    "    model = RandomForestClassifier(**params, random_state=random_state)\n",
    "    score = cross_val_score(model, X, y, cv=cv, scoring=\"f1\", n_jobs=-1).mean()\n",
    "    \n",
    "    return -score"
   ]
  },
  {
   "cell_type": "code",
   "execution_count": 13,
   "metadata": {},
   "outputs": [
    {
     "name": "stdout",
     "output_type": "stream",
     "text": [
      "CPU times: total: 0 ns\n",
      "Wall time: 0 ns\n",
      "100%|██████████| 30/30 [00:58<00:00,  1.95s/trial, best loss: -0.8079853461437644]\n",
      "Наилучшие значения гиперпараметров {'max_depth': 15.0, 'min_samples_leaf': 3.0, 'n_estimators': 120.0}\n"
     ]
    }
   ],
   "source": [
    "%time\n",
    "trials = Trials() # используется для логирования результатов\n",
    "\n",
    "best=fmin(hyperopt_rf, \n",
    "          space=space,\n",
    "          max_evals=30, # максимальное количество итераций\n",
    "          algo=tpe.suggest,\n",
    "          trials=trials, # логирование результатов\n",
    "          rstate=np.random.RandomState(42)\n",
    "         )\n",
    "\n",
    "print(\"Наилучшие значения гиперпараметров {}\".format(best))"
   ]
  },
  {
   "cell_type": "code",
   "execution_count": 14,
   "metadata": {},
   "outputs": [
    {
     "name": "stdout",
     "output_type": "stream",
     "text": [
      "f1_score на тестовом наборе: 0.82\n"
     ]
    }
   ],
   "source": [
    "# рассчитаем точность для тестовой выборки\n",
    "model = RandomForestClassifier(\n",
    "    random_state=random_state, \n",
    "    n_estimators=int(best['n_estimators']),\n",
    "    max_depth=int(best['max_depth']),\n",
    "    min_samples_leaf=int(best['min_samples_leaf'])\n",
    ")\n",
    "model.fit(X_train, y_train)\n",
    "y_test_pred = model.predict(X_test)\n",
    "print('f1_score на тестовом наборе: {:.2f}'.format(f1_score(y_test, y_test_pred)))"
   ]
  },
  {
   "cell_type": "markdown",
   "metadata": {},
   "source": [
    "После подбора гиперпараметров для модели случайного леса нам также удалось улучшить целевую метрику с 0.81 до 0.82."
   ]
  },
  {
   "cell_type": "markdown",
   "metadata": {},
   "source": [
    "### <center>  Optuna + RandomForest"
   ]
  },
  {
   "cell_type": "code",
   "execution_count": 15,
   "metadata": {},
   "outputs": [],
   "source": [
    "def optuna_rf(trial):\n",
    "  # задаем пространства поиска гиперпараметров\n",
    "  n_estimators = trial.suggest_int('n_estimators', 100, 200, 1)\n",
    "  max_depth = trial.suggest_int('max_depth', 5, 30, 1)\n",
    "  min_samples_leaf = trial.suggest_int('min_samples_leaf', 1, 10, 1)\n",
    "\n",
    "  model = RandomForestClassifier(\n",
    "    n_estimators=n_estimators,\n",
    "    max_depth=max_depth,\n",
    "    min_samples_leaf=min_samples_leaf,\n",
    "    random_state=random_state)\n",
    "  \n",
    "  model.fit(X_train, y_train)\n",
    "  score = f1_score(y_train, model.predict(X_train))\n",
    "\n",
    "  return score"
   ]
  },
  {
   "cell_type": "code",
   "execution_count": 16,
   "metadata": {},
   "outputs": [
    {
     "name": "stderr",
     "output_type": "stream",
     "text": [
      "\u001b[32m[I 2022-11-10 14:34:29,871]\u001b[0m A new study created in memory with name: RandomForestClassifier\u001b[0m\n",
      "\u001b[32m[I 2022-11-10 14:34:31,900]\u001b[0m Trial 0 finished with value: 0.914742997845491 and parameters: {'n_estimators': 199, 'max_depth': 10, 'min_samples_leaf': 4}. Best is trial 0 with value: 0.914742997845491.\u001b[0m\n",
      "\u001b[32m[I 2022-11-10 14:34:33,654]\u001b[0m Trial 1 finished with value: 0.9920343137254902 and parameters: {'n_estimators': 127, 'max_depth': 29, 'min_samples_leaf': 2}. Best is trial 1 with value: 0.9920343137254902.\u001b[0m\n",
      "\u001b[32m[I 2022-11-10 14:34:34,878]\u001b[0m Trial 2 finished with value: 0.8980716253443526 and parameters: {'n_estimators': 114, 'max_depth': 23, 'min_samples_leaf': 10}. Best is trial 1 with value: 0.9920343137254902.\u001b[0m\n",
      "\u001b[32m[I 2022-11-10 14:34:36,215]\u001b[0m Trial 3 finished with value: 0.9243441122635754 and parameters: {'n_estimators': 120, 'max_depth': 28, 'min_samples_leaf': 7}. Best is trial 1 with value: 0.9920343137254902.\u001b[0m\n",
      "\u001b[32m[I 2022-11-10 14:34:38,223]\u001b[0m Trial 4 finished with value: 0.9770992366412213 and parameters: {'n_estimators': 150, 'max_depth': 23, 'min_samples_leaf': 3}. Best is trial 1 with value: 0.9920343137254902.\u001b[0m\n",
      "\u001b[32m[I 2022-11-10 14:34:39,609]\u001b[0m Trial 5 finished with value: 0.938188494492044 and parameters: {'n_estimators': 129, 'max_depth': 10, 'min_samples_leaf': 1}. Best is trial 1 with value: 0.9920343137254902.\u001b[0m\n",
      "\u001b[32m[I 2022-11-10 14:34:42,179]\u001b[0m Trial 6 finished with value: 0.9917304747320062 and parameters: {'n_estimators': 184, 'max_depth': 26, 'min_samples_leaf': 2}. Best is trial 1 with value: 0.9920343137254902.\u001b[0m\n",
      "\u001b[32m[I 2022-11-10 14:34:43,559]\u001b[0m Trial 7 finished with value: 0.9227008860372746 and parameters: {'n_estimators': 118, 'max_depth': 20, 'min_samples_leaf': 7}. Best is trial 1 with value: 0.9920343137254902.\u001b[0m\n",
      "\u001b[32m[I 2022-11-10 14:34:44,867]\u001b[0m Trial 8 finished with value: 0.9330889092575619 and parameters: {'n_estimators': 115, 'max_depth': 18, 'min_samples_leaf': 6}. Best is trial 1 with value: 0.9920343137254902.\u001b[0m\n",
      "\u001b[32m[I 2022-11-10 14:34:46,583]\u001b[0m Trial 9 finished with value: 0.9358974358974358 and parameters: {'n_estimators': 152, 'max_depth': 27, 'min_samples_leaf': 6}. Best is trial 1 with value: 0.9920343137254902.\u001b[0m\n",
      "\u001b[32m[I 2022-11-10 14:34:47,404]\u001b[0m Trial 10 finished with value: 0.8035043804755945 and parameters: {'n_estimators': 146, 'max_depth': 5, 'min_samples_leaf': 4}. Best is trial 1 with value: 0.9920343137254902.\u001b[0m\n",
      "\u001b[32m[I 2022-11-10 14:34:50,233]\u001b[0m Trial 11 finished with value: 1.0 and parameters: {'n_estimators': 194, 'max_depth': 30, 'min_samples_leaf': 1}. Best is trial 11 with value: 1.0.\u001b[0m\n",
      "\u001b[32m[I 2022-11-10 14:34:52,828]\u001b[0m Trial 12 finished with value: 1.0 and parameters: {'n_estimators': 177, 'max_depth': 30, 'min_samples_leaf': 1}. Best is trial 11 with value: 1.0.\u001b[0m\n",
      "\u001b[32m[I 2022-11-10 14:34:55,484]\u001b[0m Trial 13 finished with value: 1.0 and parameters: {'n_estimators': 175, 'max_depth': 30, 'min_samples_leaf': 1}. Best is trial 11 with value: 1.0.\u001b[0m\n",
      "\u001b[32m[I 2022-11-10 14:34:57,708]\u001b[0m Trial 14 finished with value: 0.9560707748627212 and parameters: {'n_estimators': 174, 'max_depth': 24, 'min_samples_leaf': 4}. Best is trial 11 with value: 1.0.\u001b[0m\n",
      "\u001b[32m[I 2022-11-10 14:34:59,687]\u001b[0m Trial 15 finished with value: 0.8952671755725191 and parameters: {'n_estimators': 200, 'max_depth': 14, 'min_samples_leaf': 10}. Best is trial 11 with value: 1.0.\u001b[0m\n",
      "\u001b[32m[I 2022-11-10 14:35:02,600]\u001b[0m Trial 16 finished with value: 1.0 and parameters: {'n_estimators': 184, 'max_depth': 30, 'min_samples_leaf': 1}. Best is trial 11 with value: 1.0.\u001b[0m\n",
      "\u001b[32m[I 2022-11-10 14:35:05,095]\u001b[0m Trial 17 finished with value: 0.9768009768009768 and parameters: {'n_estimators': 162, 'max_depth': 20, 'min_samples_leaf': 3}. Best is trial 11 with value: 1.0.\u001b[0m\n",
      "\u001b[32m[I 2022-11-10 14:35:07,534]\u001b[0m Trial 18 finished with value: 0.9920343137254902 and parameters: {'n_estimators': 170, 'max_depth': 25, 'min_samples_leaf': 2}. Best is trial 11 with value: 1.0.\u001b[0m\n",
      "\u001b[32m[I 2022-11-10 14:35:09,780]\u001b[0m Trial 19 finished with value: 0.938513306821658 and parameters: {'n_estimators': 188, 'max_depth': 15, 'min_samples_leaf': 5}. Best is trial 11 with value: 1.0.\u001b[0m\n",
      "\u001b[32m[I 2022-11-10 14:35:11,892]\u001b[0m Trial 20 finished with value: 0.9755201958384332 and parameters: {'n_estimators': 162, 'max_depth': 21, 'min_samples_leaf': 3}. Best is trial 11 with value: 1.0.\u001b[0m\n",
      "\u001b[32m[I 2022-11-10 14:35:14,492]\u001b[0m Trial 21 finished with value: 1.0 and parameters: {'n_estimators': 176, 'max_depth': 29, 'min_samples_leaf': 1}. Best is trial 11 with value: 1.0.\u001b[0m\n",
      "\u001b[32m[I 2022-11-10 14:35:17,199]\u001b[0m Trial 22 finished with value: 1.0 and parameters: {'n_estimators': 174, 'max_depth': 27, 'min_samples_leaf': 1}. Best is trial 11 with value: 1.0.\u001b[0m\n",
      "\u001b[32m[I 2022-11-10 14:35:20,348]\u001b[0m Trial 23 finished with value: 0.9920294297976702 and parameters: {'n_estimators': 188, 'max_depth': 30, 'min_samples_leaf': 2}. Best is trial 11 with value: 1.0.\u001b[0m\n",
      "\u001b[32m[I 2022-11-10 14:35:23,382]\u001b[0m Trial 24 finished with value: 1.0 and parameters: {'n_estimators': 196, 'max_depth': 27, 'min_samples_leaf': 1}. Best is trial 11 with value: 1.0.\u001b[0m\n",
      "\u001b[32m[I 2022-11-10 14:35:24,933]\u001b[0m Trial 25 finished with value: 0.9917203311867526 and parameters: {'n_estimators': 102, 'max_depth': 26, 'min_samples_leaf': 2}. Best is trial 11 with value: 1.0.\u001b[0m\n",
      "\u001b[32m[I 2022-11-10 14:35:26,742]\u001b[0m Trial 26 finished with value: 0.9170731707317074 and parameters: {'n_estimators': 165, 'max_depth': 28, 'min_samples_leaf': 8}. Best is trial 11 with value: 1.0.\u001b[0m\n",
      "\u001b[32m[I 2022-11-10 14:35:29,195]\u001b[0m Trial 27 finished with value: 0.9770712320391317 and parameters: {'n_estimators': 183, 'max_depth': 22, 'min_samples_leaf': 3}. Best is trial 11 with value: 1.0.\u001b[0m\n",
      "\u001b[32m[I 2022-11-10 14:35:31,258]\u001b[0m Trial 28 finished with value: 1.0 and parameters: {'n_estimators': 142, 'max_depth': 25, 'min_samples_leaf': 1}. Best is trial 11 with value: 1.0.\u001b[0m\n",
      "\u001b[32m[I 2022-11-10 14:35:32,974]\u001b[0m Trial 29 finished with value: 0.9438682123245883 and parameters: {'n_estimators': 138, 'max_depth': 25, 'min_samples_leaf': 5}. Best is trial 11 with value: 1.0.\u001b[0m\n"
     ]
    },
    {
     "name": "stdout",
     "output_type": "stream",
     "text": [
      "CPU times: total: 1min 2s\n",
      "Wall time: 1min 3s\n"
     ]
    }
   ],
   "source": [
    "%%time\n",
    "\n",
    "study = optuna.create_study(study_name=\"RandomForestClassifier\", direction=\"maximize\")\n",
    "study.optimize(optuna_rf, n_trials=30)"
   ]
  },
  {
   "cell_type": "code",
   "execution_count": 17,
   "metadata": {},
   "outputs": [
    {
     "name": "stdout",
     "output_type": "stream",
     "text": [
      "Наилучшие значения гиперпараметров {'n_estimators': 194, 'max_depth': 30, 'min_samples_leaf': 1}\n"
     ]
    }
   ],
   "source": [
    "# выводим результаты на обучающей выборке\n",
    "print(\"Наилучшие значения гиперпараметров {}\".format(study.best_params))"
   ]
  },
  {
   "cell_type": "code",
   "execution_count": 18,
   "metadata": {},
   "outputs": [
    {
     "name": "stdout",
     "output_type": "stream",
     "text": [
      "f1_score на тестовом наборе: 0.83\n"
     ]
    }
   ],
   "source": [
    "# рассчитаем точность для тестовой выборки\n",
    "model = RandomForestClassifier(**study.best_params,random_state=random_state)\n",
    "model.fit(X_train, y_train)\n",
    "y_test_pred = model.predict(X_test)\n",
    "print('f1_score на тестовом наборе: {:.2f}'.format(f1_score(y_test, y_test_pred)))"
   ]
  },
  {
   "cell_type": "markdown",
   "metadata": {},
   "source": [
    "Optuna помогла ещё немного улучшить целевую метрику f1_score для модели случайного леса с 0.82 до 0.83. "
   ]
  },
  {
   "cell_type": "markdown",
   "metadata": {},
   "source": [
    "# Выводы:\n",
    "Мы познакомились с методами оптимизации гиперпараметров на примере GridSearchCV, RandomizedSearchCV, Hyperopt и Optuna. Во всех случаях удалось улучшить метрику f1 с гиперпараметрами моделей по умолчанию.\n",
    "1. Для модели случайного леса максимальные значения метрики F1 были получены с применением библиотеки оптимизвции гиперпараметров Optuna: f1 = 0.83.\n",
    "2. Для модели логистической регрессии значение метрики F1 составило 0.79 как с применением библиотеки оптимизации гиперпараметров GridSearchCV, так и с библиотекой RandomizedSearchCV. Однако GridSearchCV удалось найти оптимальные гиперпараметры модели за 42.3 сек., а RandomizedSearchCV - за 7.41 сек."
   ]
  }
 ],
 "metadata": {
  "kernelspec": {
   "display_name": "Python 3.9.11 64-bit",
   "language": "python",
   "name": "python3"
  },
  "language_info": {
   "codemirror_mode": {
    "name": "ipython",
    "version": 3
   },
   "file_extension": ".py",
   "mimetype": "text/x-python",
   "name": "python",
   "nbconvert_exporter": "python",
   "pygments_lexer": "ipython3",
   "version": "3.9.11"
  },
  "orig_nbformat": 4,
  "vscode": {
   "interpreter": {
    "hash": "4d8932228add34e79085d54418739927758047413581aff5db7a73e07d1d9df5"
   }
  }
 },
 "nbformat": 4,
 "nbformat_minor": 2
}
